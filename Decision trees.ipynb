{
 "cells": [
  {
   "cell_type": "code",
   "execution_count": 1,
   "metadata": {},
   "outputs": [],
   "source": [
    "import pandas as pd"
   ]
  },
  {
   "cell_type": "code",
   "execution_count": 2,
   "metadata": {},
   "outputs": [],
   "source": [
    "data=pd.read_csv('vertebrate.csv', header='infer')"
   ]
  },
  {
   "cell_type": "code",
   "execution_count": 3,
   "metadata": {},
   "outputs": [
    {
     "data": {
      "text/html": [
       "<div>\n",
       "<style scoped>\n",
       "    .dataframe tbody tr th:only-of-type {\n",
       "        vertical-align: middle;\n",
       "    }\n",
       "\n",
       "    .dataframe tbody tr th {\n",
       "        vertical-align: top;\n",
       "    }\n",
       "\n",
       "    .dataframe thead th {\n",
       "        text-align: right;\n",
       "    }\n",
       "</style>\n",
       "<table border=\"1\" class=\"dataframe\">\n",
       "  <thead>\n",
       "    <tr style=\"text-align: right;\">\n",
       "      <th></th>\n",
       "      <th>Name</th>\n",
       "      <th>Warm-blooded</th>\n",
       "      <th>Gives Birth</th>\n",
       "      <th>Aquatic Creature</th>\n",
       "      <th>Aerial Creature</th>\n",
       "      <th>Has Legs</th>\n",
       "      <th>Hibernates</th>\n",
       "      <th>Class</th>\n",
       "    </tr>\n",
       "  </thead>\n",
       "  <tbody>\n",
       "    <tr>\n",
       "      <th>0</th>\n",
       "      <td>human</td>\n",
       "      <td>1</td>\n",
       "      <td>1</td>\n",
       "      <td>0</td>\n",
       "      <td>0</td>\n",
       "      <td>1</td>\n",
       "      <td>0</td>\n",
       "      <td>mammals</td>\n",
       "    </tr>\n",
       "    <tr>\n",
       "      <th>1</th>\n",
       "      <td>python</td>\n",
       "      <td>0</td>\n",
       "      <td>0</td>\n",
       "      <td>0</td>\n",
       "      <td>0</td>\n",
       "      <td>0</td>\n",
       "      <td>1</td>\n",
       "      <td>reptiles</td>\n",
       "    </tr>\n",
       "    <tr>\n",
       "      <th>2</th>\n",
       "      <td>salmon</td>\n",
       "      <td>0</td>\n",
       "      <td>0</td>\n",
       "      <td>1</td>\n",
       "      <td>0</td>\n",
       "      <td>0</td>\n",
       "      <td>0</td>\n",
       "      <td>fishes</td>\n",
       "    </tr>\n",
       "    <tr>\n",
       "      <th>3</th>\n",
       "      <td>whale</td>\n",
       "      <td>1</td>\n",
       "      <td>1</td>\n",
       "      <td>1</td>\n",
       "      <td>0</td>\n",
       "      <td>0</td>\n",
       "      <td>0</td>\n",
       "      <td>mammals</td>\n",
       "    </tr>\n",
       "    <tr>\n",
       "      <th>4</th>\n",
       "      <td>frog</td>\n",
       "      <td>0</td>\n",
       "      <td>0</td>\n",
       "      <td>1</td>\n",
       "      <td>0</td>\n",
       "      <td>1</td>\n",
       "      <td>1</td>\n",
       "      <td>amphibians</td>\n",
       "    </tr>\n",
       "    <tr>\n",
       "      <th>5</th>\n",
       "      <td>komodo</td>\n",
       "      <td>0</td>\n",
       "      <td>0</td>\n",
       "      <td>0</td>\n",
       "      <td>0</td>\n",
       "      <td>1</td>\n",
       "      <td>0</td>\n",
       "      <td>reptiles</td>\n",
       "    </tr>\n",
       "    <tr>\n",
       "      <th>6</th>\n",
       "      <td>bat</td>\n",
       "      <td>1</td>\n",
       "      <td>1</td>\n",
       "      <td>0</td>\n",
       "      <td>1</td>\n",
       "      <td>1</td>\n",
       "      <td>1</td>\n",
       "      <td>mammals</td>\n",
       "    </tr>\n",
       "    <tr>\n",
       "      <th>7</th>\n",
       "      <td>pigeon</td>\n",
       "      <td>1</td>\n",
       "      <td>0</td>\n",
       "      <td>0</td>\n",
       "      <td>1</td>\n",
       "      <td>1</td>\n",
       "      <td>0</td>\n",
       "      <td>birds</td>\n",
       "    </tr>\n",
       "    <tr>\n",
       "      <th>8</th>\n",
       "      <td>cat</td>\n",
       "      <td>1</td>\n",
       "      <td>1</td>\n",
       "      <td>0</td>\n",
       "      <td>0</td>\n",
       "      <td>1</td>\n",
       "      <td>0</td>\n",
       "      <td>mammals</td>\n",
       "    </tr>\n",
       "    <tr>\n",
       "      <th>9</th>\n",
       "      <td>leopard shark</td>\n",
       "      <td>0</td>\n",
       "      <td>1</td>\n",
       "      <td>1</td>\n",
       "      <td>0</td>\n",
       "      <td>0</td>\n",
       "      <td>0</td>\n",
       "      <td>fishes</td>\n",
       "    </tr>\n",
       "    <tr>\n",
       "      <th>10</th>\n",
       "      <td>turtle</td>\n",
       "      <td>0</td>\n",
       "      <td>0</td>\n",
       "      <td>1</td>\n",
       "      <td>0</td>\n",
       "      <td>1</td>\n",
       "      <td>0</td>\n",
       "      <td>reptiles</td>\n",
       "    </tr>\n",
       "    <tr>\n",
       "      <th>11</th>\n",
       "      <td>penguin</td>\n",
       "      <td>1</td>\n",
       "      <td>0</td>\n",
       "      <td>1</td>\n",
       "      <td>0</td>\n",
       "      <td>1</td>\n",
       "      <td>0</td>\n",
       "      <td>birds</td>\n",
       "    </tr>\n",
       "    <tr>\n",
       "      <th>12</th>\n",
       "      <td>porcupine</td>\n",
       "      <td>1</td>\n",
       "      <td>1</td>\n",
       "      <td>0</td>\n",
       "      <td>0</td>\n",
       "      <td>1</td>\n",
       "      <td>1</td>\n",
       "      <td>mammals</td>\n",
       "    </tr>\n",
       "    <tr>\n",
       "      <th>13</th>\n",
       "      <td>eel</td>\n",
       "      <td>0</td>\n",
       "      <td>0</td>\n",
       "      <td>1</td>\n",
       "      <td>0</td>\n",
       "      <td>0</td>\n",
       "      <td>0</td>\n",
       "      <td>fishes</td>\n",
       "    </tr>\n",
       "    <tr>\n",
       "      <th>14</th>\n",
       "      <td>salamander</td>\n",
       "      <td>0</td>\n",
       "      <td>0</td>\n",
       "      <td>1</td>\n",
       "      <td>0</td>\n",
       "      <td>1</td>\n",
       "      <td>1</td>\n",
       "      <td>amphibians</td>\n",
       "    </tr>\n",
       "  </tbody>\n",
       "</table>\n",
       "</div>"
      ],
      "text/plain": [
       "             Name  Warm-blooded  Gives Birth  Aquatic Creature  \\\n",
       "0           human             1            1                 0   \n",
       "1          python             0            0                 0   \n",
       "2          salmon             0            0                 1   \n",
       "3           whale             1            1                 1   \n",
       "4            frog             0            0                 1   \n",
       "5          komodo             0            0                 0   \n",
       "6             bat             1            1                 0   \n",
       "7          pigeon             1            0                 0   \n",
       "8             cat             1            1                 0   \n",
       "9   leopard shark             0            1                 1   \n",
       "10         turtle             0            0                 1   \n",
       "11        penguin             1            0                 1   \n",
       "12      porcupine             1            1                 0   \n",
       "13            eel             0            0                 1   \n",
       "14     salamander             0            0                 1   \n",
       "\n",
       "    Aerial Creature  Has Legs  Hibernates       Class  \n",
       "0                 0         1           0     mammals  \n",
       "1                 0         0           1    reptiles  \n",
       "2                 0         0           0      fishes  \n",
       "3                 0         0           0     mammals  \n",
       "4                 0         1           1  amphibians  \n",
       "5                 0         1           0    reptiles  \n",
       "6                 1         1           1     mammals  \n",
       "7                 1         1           0       birds  \n",
       "8                 0         1           0     mammals  \n",
       "9                 0         0           0      fishes  \n",
       "10                0         1           0    reptiles  \n",
       "11                0         1           0       birds  \n",
       "12                0         1           1     mammals  \n",
       "13                0         0           0      fishes  \n",
       "14                0         1           1  amphibians  "
      ]
     },
     "execution_count": 3,
     "metadata": {},
     "output_type": "execute_result"
    }
   ],
   "source": [
    "data"
   ]
  },
  {
   "cell_type": "code",
   "execution_count": 4,
   "metadata": {},
   "outputs": [],
   "source": [
    "data['Class']=data['Class'].replace(['fishes','birds','amphibians','reptiles'],'non-mammals')"
   ]
  },
  {
   "cell_type": "code",
   "execution_count": 5,
   "metadata": {},
   "outputs": [
    {
     "data": {
      "text/html": [
       "<div>\n",
       "<style scoped>\n",
       "    .dataframe tbody tr th:only-of-type {\n",
       "        vertical-align: middle;\n",
       "    }\n",
       "\n",
       "    .dataframe tbody tr th {\n",
       "        vertical-align: top;\n",
       "    }\n",
       "\n",
       "    .dataframe thead th {\n",
       "        text-align: right;\n",
       "    }\n",
       "</style>\n",
       "<table border=\"1\" class=\"dataframe\">\n",
       "  <thead>\n",
       "    <tr style=\"text-align: right;\">\n",
       "      <th></th>\n",
       "      <th>Name</th>\n",
       "      <th>Warm-blooded</th>\n",
       "      <th>Gives Birth</th>\n",
       "      <th>Aquatic Creature</th>\n",
       "      <th>Aerial Creature</th>\n",
       "      <th>Has Legs</th>\n",
       "      <th>Hibernates</th>\n",
       "      <th>Class</th>\n",
       "    </tr>\n",
       "  </thead>\n",
       "  <tbody>\n",
       "    <tr>\n",
       "      <th>0</th>\n",
       "      <td>human</td>\n",
       "      <td>1</td>\n",
       "      <td>1</td>\n",
       "      <td>0</td>\n",
       "      <td>0</td>\n",
       "      <td>1</td>\n",
       "      <td>0</td>\n",
       "      <td>mammals</td>\n",
       "    </tr>\n",
       "    <tr>\n",
       "      <th>1</th>\n",
       "      <td>python</td>\n",
       "      <td>0</td>\n",
       "      <td>0</td>\n",
       "      <td>0</td>\n",
       "      <td>0</td>\n",
       "      <td>0</td>\n",
       "      <td>1</td>\n",
       "      <td>non-mammals</td>\n",
       "    </tr>\n",
       "    <tr>\n",
       "      <th>2</th>\n",
       "      <td>salmon</td>\n",
       "      <td>0</td>\n",
       "      <td>0</td>\n",
       "      <td>1</td>\n",
       "      <td>0</td>\n",
       "      <td>0</td>\n",
       "      <td>0</td>\n",
       "      <td>non-mammals</td>\n",
       "    </tr>\n",
       "    <tr>\n",
       "      <th>3</th>\n",
       "      <td>whale</td>\n",
       "      <td>1</td>\n",
       "      <td>1</td>\n",
       "      <td>1</td>\n",
       "      <td>0</td>\n",
       "      <td>0</td>\n",
       "      <td>0</td>\n",
       "      <td>mammals</td>\n",
       "    </tr>\n",
       "    <tr>\n",
       "      <th>4</th>\n",
       "      <td>frog</td>\n",
       "      <td>0</td>\n",
       "      <td>0</td>\n",
       "      <td>1</td>\n",
       "      <td>0</td>\n",
       "      <td>1</td>\n",
       "      <td>1</td>\n",
       "      <td>non-mammals</td>\n",
       "    </tr>\n",
       "    <tr>\n",
       "      <th>5</th>\n",
       "      <td>komodo</td>\n",
       "      <td>0</td>\n",
       "      <td>0</td>\n",
       "      <td>0</td>\n",
       "      <td>0</td>\n",
       "      <td>1</td>\n",
       "      <td>0</td>\n",
       "      <td>non-mammals</td>\n",
       "    </tr>\n",
       "    <tr>\n",
       "      <th>6</th>\n",
       "      <td>bat</td>\n",
       "      <td>1</td>\n",
       "      <td>1</td>\n",
       "      <td>0</td>\n",
       "      <td>1</td>\n",
       "      <td>1</td>\n",
       "      <td>1</td>\n",
       "      <td>mammals</td>\n",
       "    </tr>\n",
       "    <tr>\n",
       "      <th>7</th>\n",
       "      <td>pigeon</td>\n",
       "      <td>1</td>\n",
       "      <td>0</td>\n",
       "      <td>0</td>\n",
       "      <td>1</td>\n",
       "      <td>1</td>\n",
       "      <td>0</td>\n",
       "      <td>non-mammals</td>\n",
       "    </tr>\n",
       "    <tr>\n",
       "      <th>8</th>\n",
       "      <td>cat</td>\n",
       "      <td>1</td>\n",
       "      <td>1</td>\n",
       "      <td>0</td>\n",
       "      <td>0</td>\n",
       "      <td>1</td>\n",
       "      <td>0</td>\n",
       "      <td>mammals</td>\n",
       "    </tr>\n",
       "    <tr>\n",
       "      <th>9</th>\n",
       "      <td>leopard shark</td>\n",
       "      <td>0</td>\n",
       "      <td>1</td>\n",
       "      <td>1</td>\n",
       "      <td>0</td>\n",
       "      <td>0</td>\n",
       "      <td>0</td>\n",
       "      <td>non-mammals</td>\n",
       "    </tr>\n",
       "    <tr>\n",
       "      <th>10</th>\n",
       "      <td>turtle</td>\n",
       "      <td>0</td>\n",
       "      <td>0</td>\n",
       "      <td>1</td>\n",
       "      <td>0</td>\n",
       "      <td>1</td>\n",
       "      <td>0</td>\n",
       "      <td>non-mammals</td>\n",
       "    </tr>\n",
       "    <tr>\n",
       "      <th>11</th>\n",
       "      <td>penguin</td>\n",
       "      <td>1</td>\n",
       "      <td>0</td>\n",
       "      <td>1</td>\n",
       "      <td>0</td>\n",
       "      <td>1</td>\n",
       "      <td>0</td>\n",
       "      <td>non-mammals</td>\n",
       "    </tr>\n",
       "    <tr>\n",
       "      <th>12</th>\n",
       "      <td>porcupine</td>\n",
       "      <td>1</td>\n",
       "      <td>1</td>\n",
       "      <td>0</td>\n",
       "      <td>0</td>\n",
       "      <td>1</td>\n",
       "      <td>1</td>\n",
       "      <td>mammals</td>\n",
       "    </tr>\n",
       "    <tr>\n",
       "      <th>13</th>\n",
       "      <td>eel</td>\n",
       "      <td>0</td>\n",
       "      <td>0</td>\n",
       "      <td>1</td>\n",
       "      <td>0</td>\n",
       "      <td>0</td>\n",
       "      <td>0</td>\n",
       "      <td>non-mammals</td>\n",
       "    </tr>\n",
       "    <tr>\n",
       "      <th>14</th>\n",
       "      <td>salamander</td>\n",
       "      <td>0</td>\n",
       "      <td>0</td>\n",
       "      <td>1</td>\n",
       "      <td>0</td>\n",
       "      <td>1</td>\n",
       "      <td>1</td>\n",
       "      <td>non-mammals</td>\n",
       "    </tr>\n",
       "  </tbody>\n",
       "</table>\n",
       "</div>"
      ],
      "text/plain": [
       "             Name  Warm-blooded  Gives Birth  Aquatic Creature  \\\n",
       "0           human             1            1                 0   \n",
       "1          python             0            0                 0   \n",
       "2          salmon             0            0                 1   \n",
       "3           whale             1            1                 1   \n",
       "4            frog             0            0                 1   \n",
       "5          komodo             0            0                 0   \n",
       "6             bat             1            1                 0   \n",
       "7          pigeon             1            0                 0   \n",
       "8             cat             1            1                 0   \n",
       "9   leopard shark             0            1                 1   \n",
       "10         turtle             0            0                 1   \n",
       "11        penguin             1            0                 1   \n",
       "12      porcupine             1            1                 0   \n",
       "13            eel             0            0                 1   \n",
       "14     salamander             0            0                 1   \n",
       "\n",
       "    Aerial Creature  Has Legs  Hibernates        Class  \n",
       "0                 0         1           0      mammals  \n",
       "1                 0         0           1  non-mammals  \n",
       "2                 0         0           0  non-mammals  \n",
       "3                 0         0           0      mammals  \n",
       "4                 0         1           1  non-mammals  \n",
       "5                 0         1           0  non-mammals  \n",
       "6                 1         1           1      mammals  \n",
       "7                 1         1           0  non-mammals  \n",
       "8                 0         1           0      mammals  \n",
       "9                 0         0           0  non-mammals  \n",
       "10                0         1           0  non-mammals  \n",
       "11                0         1           0  non-mammals  \n",
       "12                0         1           1      mammals  \n",
       "13                0         0           0  non-mammals  \n",
       "14                0         1           1  non-mammals  "
      ]
     },
     "execution_count": 5,
     "metadata": {},
     "output_type": "execute_result"
    }
   ],
   "source": [
    "data"
   ]
  },
  {
   "cell_type": "code",
   "execution_count": 6,
   "metadata": {},
   "outputs": [
    {
     "data": {
      "text/html": [
       "<div>\n",
       "<style scoped>\n",
       "    .dataframe tbody tr th:only-of-type {\n",
       "        vertical-align: middle;\n",
       "    }\n",
       "\n",
       "    .dataframe tbody tr th {\n",
       "        vertical-align: top;\n",
       "    }\n",
       "\n",
       "    .dataframe thead th {\n",
       "        text-align: right;\n",
       "    }\n",
       "</style>\n",
       "<table border=\"1\" class=\"dataframe\">\n",
       "  <thead>\n",
       "    <tr style=\"text-align: right;\">\n",
       "      <th></th>\n",
       "      <th>Class</th>\n",
       "      <th>mammals</th>\n",
       "      <th>non-mammals</th>\n",
       "    </tr>\n",
       "    <tr>\n",
       "      <th>Warm-blooded</th>\n",
       "      <th>Gives Birth</th>\n",
       "      <th></th>\n",
       "      <th></th>\n",
       "    </tr>\n",
       "  </thead>\n",
       "  <tbody>\n",
       "    <tr>\n",
       "      <th rowspan=\"2\" valign=\"top\">0</th>\n",
       "      <th>0</th>\n",
       "      <td>0</td>\n",
       "      <td>7</td>\n",
       "    </tr>\n",
       "    <tr>\n",
       "      <th>1</th>\n",
       "      <td>0</td>\n",
       "      <td>1</td>\n",
       "    </tr>\n",
       "    <tr>\n",
       "      <th rowspan=\"2\" valign=\"top\">1</th>\n",
       "      <th>0</th>\n",
       "      <td>0</td>\n",
       "      <td>2</td>\n",
       "    </tr>\n",
       "    <tr>\n",
       "      <th>1</th>\n",
       "      <td>5</td>\n",
       "      <td>0</td>\n",
       "    </tr>\n",
       "  </tbody>\n",
       "</table>\n",
       "</div>"
      ],
      "text/plain": [
       "Class                     mammals  non-mammals\n",
       "Warm-blooded Gives Birth                      \n",
       "0            0                  0            7\n",
       "             1                  0            1\n",
       "1            0                  0            2\n",
       "             1                  5            0"
      ]
     },
     "execution_count": 6,
     "metadata": {},
     "output_type": "execute_result"
    }
   ],
   "source": [
    "pd.crosstab([data['Warm-blooded'],data['Gives Birth']],data['Class'])"
   ]
  },
  {
   "cell_type": "code",
   "execution_count": 7,
   "metadata": {},
   "outputs": [],
   "source": [
    "# create decision tree\n",
    "from sklearn import tree"
   ]
  },
  {
   "cell_type": "code",
   "execution_count": 8,
   "metadata": {},
   "outputs": [
    {
     "data": {
      "text/plain": [
       "0         mammals\n",
       "1     non-mammals\n",
       "2     non-mammals\n",
       "3         mammals\n",
       "4     non-mammals\n",
       "5     non-mammals\n",
       "6         mammals\n",
       "7     non-mammals\n",
       "8         mammals\n",
       "9     non-mammals\n",
       "10    non-mammals\n",
       "11    non-mammals\n",
       "12        mammals\n",
       "13    non-mammals\n",
       "14    non-mammals\n",
       "Name: Class, dtype: object"
      ]
     },
     "execution_count": 8,
     "metadata": {},
     "output_type": "execute_result"
    }
   ],
   "source": [
    "y=data['Class']\n",
    "y"
   ]
  },
  {
   "cell_type": "code",
   "execution_count": 9,
   "metadata": {},
   "outputs": [
    {
     "data": {
      "text/html": [
       "<div>\n",
       "<style scoped>\n",
       "    .dataframe tbody tr th:only-of-type {\n",
       "        vertical-align: middle;\n",
       "    }\n",
       "\n",
       "    .dataframe tbody tr th {\n",
       "        vertical-align: top;\n",
       "    }\n",
       "\n",
       "    .dataframe thead th {\n",
       "        text-align: right;\n",
       "    }\n",
       "</style>\n",
       "<table border=\"1\" class=\"dataframe\">\n",
       "  <thead>\n",
       "    <tr style=\"text-align: right;\">\n",
       "      <th></th>\n",
       "      <th>Warm-blooded</th>\n",
       "      <th>Gives Birth</th>\n",
       "      <th>Aquatic Creature</th>\n",
       "      <th>Aerial Creature</th>\n",
       "      <th>Has Legs</th>\n",
       "      <th>Hibernates</th>\n",
       "    </tr>\n",
       "  </thead>\n",
       "  <tbody>\n",
       "    <tr>\n",
       "      <th>0</th>\n",
       "      <td>1</td>\n",
       "      <td>1</td>\n",
       "      <td>0</td>\n",
       "      <td>0</td>\n",
       "      <td>1</td>\n",
       "      <td>0</td>\n",
       "    </tr>\n",
       "    <tr>\n",
       "      <th>1</th>\n",
       "      <td>0</td>\n",
       "      <td>0</td>\n",
       "      <td>0</td>\n",
       "      <td>0</td>\n",
       "      <td>0</td>\n",
       "      <td>1</td>\n",
       "    </tr>\n",
       "    <tr>\n",
       "      <th>2</th>\n",
       "      <td>0</td>\n",
       "      <td>0</td>\n",
       "      <td>1</td>\n",
       "      <td>0</td>\n",
       "      <td>0</td>\n",
       "      <td>0</td>\n",
       "    </tr>\n",
       "    <tr>\n",
       "      <th>3</th>\n",
       "      <td>1</td>\n",
       "      <td>1</td>\n",
       "      <td>1</td>\n",
       "      <td>0</td>\n",
       "      <td>0</td>\n",
       "      <td>0</td>\n",
       "    </tr>\n",
       "    <tr>\n",
       "      <th>4</th>\n",
       "      <td>0</td>\n",
       "      <td>0</td>\n",
       "      <td>1</td>\n",
       "      <td>0</td>\n",
       "      <td>1</td>\n",
       "      <td>1</td>\n",
       "    </tr>\n",
       "    <tr>\n",
       "      <th>5</th>\n",
       "      <td>0</td>\n",
       "      <td>0</td>\n",
       "      <td>0</td>\n",
       "      <td>0</td>\n",
       "      <td>1</td>\n",
       "      <td>0</td>\n",
       "    </tr>\n",
       "    <tr>\n",
       "      <th>6</th>\n",
       "      <td>1</td>\n",
       "      <td>1</td>\n",
       "      <td>0</td>\n",
       "      <td>1</td>\n",
       "      <td>1</td>\n",
       "      <td>1</td>\n",
       "    </tr>\n",
       "    <tr>\n",
       "      <th>7</th>\n",
       "      <td>1</td>\n",
       "      <td>0</td>\n",
       "      <td>0</td>\n",
       "      <td>1</td>\n",
       "      <td>1</td>\n",
       "      <td>0</td>\n",
       "    </tr>\n",
       "    <tr>\n",
       "      <th>8</th>\n",
       "      <td>1</td>\n",
       "      <td>1</td>\n",
       "      <td>0</td>\n",
       "      <td>0</td>\n",
       "      <td>1</td>\n",
       "      <td>0</td>\n",
       "    </tr>\n",
       "    <tr>\n",
       "      <th>9</th>\n",
       "      <td>0</td>\n",
       "      <td>1</td>\n",
       "      <td>1</td>\n",
       "      <td>0</td>\n",
       "      <td>0</td>\n",
       "      <td>0</td>\n",
       "    </tr>\n",
       "    <tr>\n",
       "      <th>10</th>\n",
       "      <td>0</td>\n",
       "      <td>0</td>\n",
       "      <td>1</td>\n",
       "      <td>0</td>\n",
       "      <td>1</td>\n",
       "      <td>0</td>\n",
       "    </tr>\n",
       "    <tr>\n",
       "      <th>11</th>\n",
       "      <td>1</td>\n",
       "      <td>0</td>\n",
       "      <td>1</td>\n",
       "      <td>0</td>\n",
       "      <td>1</td>\n",
       "      <td>0</td>\n",
       "    </tr>\n",
       "    <tr>\n",
       "      <th>12</th>\n",
       "      <td>1</td>\n",
       "      <td>1</td>\n",
       "      <td>0</td>\n",
       "      <td>0</td>\n",
       "      <td>1</td>\n",
       "      <td>1</td>\n",
       "    </tr>\n",
       "    <tr>\n",
       "      <th>13</th>\n",
       "      <td>0</td>\n",
       "      <td>0</td>\n",
       "      <td>1</td>\n",
       "      <td>0</td>\n",
       "      <td>0</td>\n",
       "      <td>0</td>\n",
       "    </tr>\n",
       "    <tr>\n",
       "      <th>14</th>\n",
       "      <td>0</td>\n",
       "      <td>0</td>\n",
       "      <td>1</td>\n",
       "      <td>0</td>\n",
       "      <td>1</td>\n",
       "      <td>1</td>\n",
       "    </tr>\n",
       "  </tbody>\n",
       "</table>\n",
       "</div>"
      ],
      "text/plain": [
       "    Warm-blooded  Gives Birth  Aquatic Creature  Aerial Creature  Has Legs  \\\n",
       "0              1            1                 0                0         1   \n",
       "1              0            0                 0                0         0   \n",
       "2              0            0                 1                0         0   \n",
       "3              1            1                 1                0         0   \n",
       "4              0            0                 1                0         1   \n",
       "5              0            0                 0                0         1   \n",
       "6              1            1                 0                1         1   \n",
       "7              1            0                 0                1         1   \n",
       "8              1            1                 0                0         1   \n",
       "9              0            1                 1                0         0   \n",
       "10             0            0                 1                0         1   \n",
       "11             1            0                 1                0         1   \n",
       "12             1            1                 0                0         1   \n",
       "13             0            0                 1                0         0   \n",
       "14             0            0                 1                0         1   \n",
       "\n",
       "    Hibernates  \n",
       "0            0  \n",
       "1            1  \n",
       "2            0  \n",
       "3            0  \n",
       "4            1  \n",
       "5            0  \n",
       "6            1  \n",
       "7            0  \n",
       "8            0  \n",
       "9            0  \n",
       "10           0  \n",
       "11           0  \n",
       "12           1  \n",
       "13           0  \n",
       "14           1  "
      ]
     },
     "execution_count": 9,
     "metadata": {},
     "output_type": "execute_result"
    }
   ],
   "source": [
    "# drop columns that dont form part of the features\n",
    "x=data.drop(['Name','Class'],axis=1)\n",
    "x"
   ]
  },
  {
   "cell_type": "code",
   "execution_count": 10,
   "metadata": {},
   "outputs": [],
   "source": [
    "clf=tree.DecisionTreeClassifier(criterion='entropy',max_depth=3)"
   ]
  },
  {
   "cell_type": "code",
   "execution_count": 11,
   "metadata": {},
   "outputs": [
    {
     "data": {
      "text/plain": [
       "DecisionTreeClassifier(criterion='entropy', max_depth=3)"
      ]
     },
     "execution_count": 11,
     "metadata": {},
     "output_type": "execute_result"
    }
   ],
   "source": [
    "clf"
   ]
  },
  {
   "cell_type": "code",
   "execution_count": 12,
   "metadata": {},
   "outputs": [],
   "source": [
    "clf=clf.fit(x,y)"
   ]
  },
  {
   "cell_type": "code",
   "execution_count": 13,
   "metadata": {},
   "outputs": [
    {
     "data": {
      "image/png": "[encoded data removed]",
      "text/plain": [
       "<IPython.core.display.Image object>"
      ]
     },
     "execution_count": 13,
     "metadata": {},
     "output_type": "execute_result"
    }
   ],
   "source": [
    "# draw the tree\n",
    "import pydotplus\n",
    "from IPython.display import Image\n",
    "\n",
    "dot_data=tree.export_graphviz(clf,feature_names=x.columns,class_names=['mammals','non-mammals'],filled=True,out_file=None)\n",
    "graph=pydotplus.graph_from_dot_data(dot_data)\n",
    "Image(graph.create_png())"
   ]
  },
  {
   "cell_type": "code",
   "execution_count": 14,
   "metadata": {},
   "outputs": [],
   "source": [
    "# Next apply the decision tree in an example"
   ]
  },
  {
   "cell_type": "code",
   "execution_count": 17,
   "metadata": {},
   "outputs": [
    {
     "data": {
      "text/plain": [
       "Index(['Name', 'Warm-blooded', 'Gives Birth', 'Aquatic Creature',\n",
       "       'Aerial Creature', 'Has Legs', 'Hibernates', 'Class'],\n",
       "      dtype='object')"
      ]
     },
     "execution_count": 17,
     "metadata": {},
     "output_type": "execute_result"
    }
   ],
   "source": [
    "data.columns"
   ]
  },
  {
   "cell_type": "code",
   "execution_count": 25,
   "metadata": {},
   "outputs": [],
   "source": [
    "testData=[['gila monster',0,0,0,0,1,1,'non-mammals'],['platypus',1,0,0,1,1,0,'mammals'],['owl',1,0,0,1,1,0,'non-mammals'],['dolphin',1,1,1,0,0,0,'mammals']]"
   ]
  },
  {
   "cell_type": "code",
   "execution_count": 28,
   "metadata": {},
   "outputs": [],
   "source": [
    "testData=pd.DataFrame(testData,columns=data.columns)"
   ]
  },
  {
   "cell_type": "code",
   "execution_count": 29,
   "metadata": {},
   "outputs": [],
   "source": [
    "#extract the predictor and target class"
   ]
  },
  {
   "cell_type": "code",
   "execution_count": 30,
   "metadata": {},
   "outputs": [],
   "source": [
    "testY=testData['Class']"
   ]
  },
  {
   "cell_type": "code",
   "execution_count": 37,
   "metadata": {},
   "outputs": [
    {
     "data": {
      "text/plain": [
       "pandas.core.series.Series"
      ]
     },
     "execution_count": 37,
     "metadata": {},
     "output_type": "execute_result"
    }
   ],
   "source": [
    "type(testY)"
   ]
  },
  {
   "cell_type": "code",
   "execution_count": 38,
   "metadata": {},
   "outputs": [
    {
     "data": {
      "text/plain": [
       "pandas.core.frame.DataFrame"
      ]
     },
     "execution_count": 38,
     "metadata": {},
     "output_type": "execute_result"
    }
   ],
   "source": [
    "testX=testData.drop(['Name','Class'],axis=1)\n",
    "type(testX)"
   ]
  },
  {
   "cell_type": "code",
   "execution_count": 39,
   "metadata": {},
   "outputs": [
    {
     "data": {
      "text/plain": [
       "array(['non-mammals', 'non-mammals', 'non-mammals', 'mammals'],\n",
       "      dtype=object)"
      ]
     },
     "execution_count": 39,
     "metadata": {},
     "output_type": "execute_result"
    }
   ],
   "source": [
    "predY=clf.predict(testX)\n",
    "predY"
   ]
  },
  {
   "cell_type": "code",
   "execution_count": 44,
   "metadata": {},
   "outputs": [
    {
     "data": {
      "text/html": [
       "<div>\n",
       "<style scoped>\n",
       "    .dataframe tbody tr th:only-of-type {\n",
       "        vertical-align: middle;\n",
       "    }\n",
       "\n",
       "    .dataframe tbody tr th {\n",
       "        vertical-align: top;\n",
       "    }\n",
       "\n",
       "    .dataframe thead th {\n",
       "        text-align: right;\n",
       "    }\n",
       "</style>\n",
       "<table border=\"1\" class=\"dataframe\">\n",
       "  <thead>\n",
       "    <tr style=\"text-align: right;\">\n",
       "      <th></th>\n",
       "      <th>Name</th>\n",
       "      <th>Predicted Class</th>\n",
       "    </tr>\n",
       "  </thead>\n",
       "  <tbody>\n",
       "    <tr>\n",
       "      <th>0</th>\n",
       "      <td>gila monster</td>\n",
       "      <td>non-mammals</td>\n",
       "    </tr>\n",
       "    <tr>\n",
       "      <th>1</th>\n",
       "      <td>platypus</td>\n",
       "      <td>non-mammals</td>\n",
       "    </tr>\n",
       "    <tr>\n",
       "      <th>2</th>\n",
       "      <td>owl</td>\n",
       "      <td>non-mammals</td>\n",
       "    </tr>\n",
       "    <tr>\n",
       "      <th>3</th>\n",
       "      <td>dolphin</td>\n",
       "      <td>mammals</td>\n",
       "    </tr>\n",
       "  </tbody>\n",
       "</table>\n",
       "</div>"
      ],
      "text/plain": [
       "           Name Predicted Class\n",
       "0  gila monster     non-mammals\n",
       "1      platypus     non-mammals\n",
       "2           owl     non-mammals\n",
       "3       dolphin         mammals"
      ]
     },
     "execution_count": 44,
     "metadata": {},
     "output_type": "execute_result"
    }
   ],
   "source": [
    "predictions=pd.concat([testData['Name'],pd.Series(predY,name='Predicted Class')],axis=1)\n",
    "predictions"
   ]
  },
  {
   "cell_type": "code",
   "execution_count": 41,
   "metadata": {},
   "outputs": [],
   "source": [
    "from sklearn.metrics import accuracy_score"
   ]
  },
  {
   "cell_type": "code",
   "execution_count": 45,
   "metadata": {},
   "outputs": [
    {
     "name": "stdout",
     "output_type": "stream",
     "text": [
      "accuracy on test data is 0.75\n"
     ]
    }
   ],
   "source": [
    "print('accuracy on test data is %.2f'% accuracy_score(testY,predY))"
   ]
  },
  {
   "cell_type": "markdown",
   "metadata": {},
   "source": [
    "## Model Overfitting"
   ]
  },
  {
   "cell_type": "markdown",
   "metadata": {},
   "source": [
    "### Create a dataset that has 2D 1500 labelled instances. the will be 0 and 1\n",
    "- Normal Distribution for class 1 generated using 3 Gaussian distibution (6,14)(10,6)(14,14)\n",
    "- 0 values will be genrated using uniform distribution of a square region\n",
    "- Classes will be balances 1500/7 ie. 750 assigned to 0 and 750 assigned 1"
   ]
  },
  {
   "cell_type": "code",
   "execution_count": 80,
   "metadata": {},
   "outputs": [],
   "source": [
    "# create the dataset\n",
    "import numpy as np\n",
    "import matplotlib.pyplot as plt\n",
    "from numpy.random import random\n",
    "%matplotlib inline"
   ]
  },
  {
   "cell_type": "code",
   "execution_count": 81,
   "metadata": {},
   "outputs": [],
   "source": [
    "N=1500\n",
    "mean1=[6,14]\n",
    "mean2=[10,6]\n",
    "mean3=[14,14]\n",
    "cov=[3.5,0],[0,3.5] #co-variants"
   ]
  },
  {
   "cell_type": "code",
   "execution_count": 82,
   "metadata": {},
   "outputs": [],
   "source": [
    "np.random.seed(50)"
   ]
  },
  {
   "cell_type": "code",
   "execution_count": 83,
   "metadata": {},
   "outputs": [],
   "source": [
    "x=np.random.multivariate_normal(mean1,cov,int(N/6))"
   ]
  },
  {
   "cell_type": "code",
   "execution_count": 84,
   "metadata": {},
   "outputs": [
    {
     "data": {
      "text/plain": [
       "(250, 2)"
      ]
     },
     "execution_count": 84,
     "metadata": {},
     "output_type": "execute_result"
    }
   ],
   "source": [
    "x.shape"
   ]
  },
  {
   "cell_type": "code",
   "execution_count": 85,
   "metadata": {},
   "outputs": [
    {
     "data": {
      "text/plain": [
       "array([ 3.0808485 , 13.94204621])"
      ]
     },
     "execution_count": 85,
     "metadata": {},
     "output_type": "execute_result"
    }
   ],
   "source": [
    "x[0]"
   ]
  },
  {
   "cell_type": "code",
   "execution_count": 86,
   "metadata": {},
   "outputs": [
    {
     "data": {
      "text/plain": [
       "array([[ 3.0808485 , 13.94204621],\n",
       "       [ 4.83834929, 11.2600208 ],\n",
       "       [ 8.64150932, 13.10811583],\n",
       "       [ 4.5398758 , 16.00228759],\n",
       "       [ 3.60105022, 11.51651438],\n",
       "       [ 6.23635608, 15.61301674],\n",
       "       [ 7.3034755 , 13.37408585],\n",
       "       [ 4.13379962, 16.99128351],\n",
       "       [12.20006725, 15.84794932],\n",
       "       [ 6.23173255, 15.38962423],\n",
       "       [ 5.26297609, 14.27709932],\n",
       "       [ 5.22877996, 13.69932965],\n",
       "       [ 6.26103949, 14.53406429],\n",
       "       [ 5.47380699, 17.2008145 ],\n",
       "       [ 5.71981227, 15.29144562],\n",
       "       [ 8.04894938, 16.50393341],\n",
       "       [ 3.43886981, 14.91002276],\n",
       "       [ 7.40970998, 14.67997999],\n",
       "       [ 5.4112306 , 16.56917381],\n",
       "       [ 4.83182245, 14.70297136],\n",
       "       [ 5.62505541, 15.39009692],\n",
       "       [ 7.60397735, 11.18217787],\n",
       "       [ 2.88254055, 13.59029824],\n",
       "       [ 5.32863735, 14.70816047],\n",
       "       [ 7.28004974, 11.81514136],\n",
       "       [ 4.51602759, 13.92734563],\n",
       "       [11.06106866, 11.20986759],\n",
       "       [ 6.17955827, 14.98159895],\n",
       "       [ 7.52597042, 14.09635854],\n",
       "       [ 5.69214511, 14.52046345],\n",
       "       [ 6.16297668, 14.06411025],\n",
       "       [ 7.39670255, 12.23461573],\n",
       "       [ 5.54019396, 16.07310448],\n",
       "       [ 6.07297708, 13.60101456],\n",
       "       [ 4.33317654, 13.49366707],\n",
       "       [ 6.41577993, 14.4711001 ],\n",
       "       [ 7.32440844, 14.92417035],\n",
       "       [ 8.75199213, 12.91001878],\n",
       "       [ 9.86479438, 16.03515085],\n",
       "       [ 7.50637076, 11.02933948],\n",
       "       [ 8.30277591,  9.55967532],\n",
       "       [ 5.9417967 ,  6.87234776],\n",
       "       [ 5.62761213, 14.65559589],\n",
       "       [ 5.90168648, 12.81336875],\n",
       "       [ 5.32101807,  9.19024954],\n",
       "       [ 6.25726652, 12.65432005],\n",
       "       [ 7.36294152, 17.03400799],\n",
       "       [ 8.8467694 , 11.55525077],\n",
       "       [ 4.33539593, 14.00985504],\n",
       "       [ 7.62093251, 12.99810467],\n",
       "       [ 5.5170476 , 14.08822109],\n",
       "       [ 5.20103427, 13.77319389],\n",
       "       [ 5.6846259 , 13.63350666],\n",
       "       [ 5.63828815, 14.5549441 ],\n",
       "       [ 4.57771104,  9.42635557],\n",
       "       [ 5.00745559, 15.57588432],\n",
       "       [ 5.69171354, 11.59766564],\n",
       "       [ 6.37448656, 15.58741513],\n",
       "       [ 2.80117211, 11.03722646],\n",
       "       [ 3.9411722 , 11.83496939],\n",
       "       [ 9.3825422 , 11.92117517],\n",
       "       [ 7.62839801, 15.40119986],\n",
       "       [ 7.32741389, 14.59146142],\n",
       "       [ 4.54409446, 12.99730767],\n",
       "       [ 3.803961  , 12.25115644],\n",
       "       [ 3.94201426, 13.94762837],\n",
       "       [ 4.80150582, 14.79366286],\n",
       "       [ 8.17551704, 18.61041835],\n",
       "       [ 5.74435253, 11.05166213],\n",
       "       [ 8.58684654, 13.70196952],\n",
       "       [ 7.4666538 , 11.72494639],\n",
       "       [ 5.01616435, 14.30301729],\n",
       "       [ 4.27253747, 16.36235727],\n",
       "       [ 9.05881395, 14.62151417],\n",
       "       [ 4.95873692, 12.65720688],\n",
       "       [ 5.38987336, 13.28293108],\n",
       "       [ 4.66650216, 15.23558333],\n",
       "       [ 4.41981588, 13.85632303],\n",
       "       [ 8.84326638, 12.3594475 ],\n",
       "       [ 6.00297787, 12.96067772],\n",
       "       [ 6.62006552, 12.9755156 ],\n",
       "       [ 2.48772202, 12.71742517],\n",
       "       [ 4.44030097, 15.65596324],\n",
       "       [ 5.57764549, 13.98725876],\n",
       "       [ 6.01851077, 13.86464714],\n",
       "       [ 3.63573541, 11.217633  ],\n",
       "       [ 3.33563996, 12.11788198],\n",
       "       [ 3.01312937, 14.29078791],\n",
       "       [10.82578046, 13.19637296],\n",
       "       [ 0.75986037, 14.03595655],\n",
       "       [ 3.58448857, 15.39359022],\n",
       "       [ 6.09005344, 11.40303017],\n",
       "       [ 7.35742367, 13.61166005],\n",
       "       [ 5.73103738, 13.01654049],\n",
       "       [11.07395754, 13.85428099],\n",
       "       [ 6.15358984, 14.12034589],\n",
       "       [ 4.25933264, 13.8791892 ],\n",
       "       [ 5.84034545, 17.31452409],\n",
       "       [ 4.19358243, 16.56369809],\n",
       "       [ 4.93871912, 11.99978774],\n",
       "       [ 7.05705901, 14.10713268],\n",
       "       [ 6.45194513, 14.90954573],\n",
       "       [ 5.32007836, 14.91485745],\n",
       "       [ 7.1884494 , 15.49933941],\n",
       "       [ 5.25462345, 13.35466561],\n",
       "       [ 3.32066147, 11.62275311],\n",
       "       [ 6.82121474, 14.29041991],\n",
       "       [ 5.09406679, 13.43284025],\n",
       "       [ 5.89019896, 16.8005892 ],\n",
       "       [ 7.56778797, 14.44099332],\n",
       "       [ 4.36120261, 13.54481496],\n",
       "       [ 8.95192524, 17.25601838],\n",
       "       [ 8.03828436, 16.28647207],\n",
       "       [ 6.88179888, 11.27485335],\n",
       "       [ 7.05573134, 11.93004398],\n",
       "       [ 3.87039244, 15.05755871],\n",
       "       [ 7.33700346, 16.39513389],\n",
       "       [ 6.7020943 , 15.8741841 ],\n",
       "       [ 4.61681226, 10.85072641],\n",
       "       [ 6.80158623, 13.1353068 ],\n",
       "       [ 2.2178375 , 11.67845023],\n",
       "       [ 8.73024171, 14.65893088],\n",
       "       [ 5.70358528, 14.7649876 ],\n",
       "       [ 7.42403423, 12.16023677],\n",
       "       [ 4.86227624, 11.32396368],\n",
       "       [ 5.53549401, 11.17463201],\n",
       "       [ 6.71800557, 16.10342265],\n",
       "       [ 5.63194019, 12.35334172],\n",
       "       [ 5.54856993, 14.76259512],\n",
       "       [ 5.24969944, 12.9607006 ],\n",
       "       [ 5.48374153, 15.27537988],\n",
       "       [ 5.06669883, 12.42422429],\n",
       "       [ 2.62214759, 17.45797201],\n",
       "       [ 7.67075021, 18.119714  ],\n",
       "       [ 7.67818713, 15.08123024],\n",
       "       [ 5.2412547 , 15.18736388],\n",
       "       [ 5.16055085, 15.29002575],\n",
       "       [ 6.75072168, 13.58067962],\n",
       "       [10.35244103, 12.54988066],\n",
       "       [ 7.62135979, 13.19505134],\n",
       "       [ 3.93123945, 12.96603373],\n",
       "       [ 4.90511608, 15.19833603],\n",
       "       [ 7.58283145, 15.26467046],\n",
       "       [ 4.4891826 , 13.09261494],\n",
       "       [ 2.34774122, 15.72117542],\n",
       "       [ 7.51156316, 13.26681377],\n",
       "       [ 6.10638921, 10.35923294],\n",
       "       [ 3.47025775, 14.82530913],\n",
       "       [ 3.97305073, 12.83835103],\n",
       "       [ 6.55307563, 13.76608067],\n",
       "       [ 6.90219552, 15.58185311],\n",
       "       [ 8.14751806, 14.55963995],\n",
       "       [ 8.05430213, 14.09935488],\n",
       "       [ 4.44630606, 15.07395405],\n",
       "       [ 7.53433715, 16.39361369],\n",
       "       [ 2.24432045, 12.64338432],\n",
       "       [ 3.81161273, 15.52442958],\n",
       "       [ 3.83017033, 11.00471417],\n",
       "       [ 6.27918183, 17.52629057],\n",
       "       [ 7.9295826 , 10.65508578],\n",
       "       [ 6.21586692, 15.10528768],\n",
       "       [ 5.44618015, 14.4815215 ],\n",
       "       [ 9.41166242, 14.44283736],\n",
       "       [ 4.29287989, 15.10732563],\n",
       "       [ 6.48390408, 13.73168612],\n",
       "       [ 3.73239181, 12.47558817],\n",
       "       [ 8.68606582, 13.12720225],\n",
       "       [ 6.45275447, 12.03768004],\n",
       "       [ 5.27880055, 15.07603614],\n",
       "       [ 5.81499876, 12.653341  ],\n",
       "       [ 4.68258346, 10.67261149],\n",
       "       [ 5.33343137, 13.57931196],\n",
       "       [ 4.60711238, 11.76439198],\n",
       "       [ 8.99900059, 14.73360621],\n",
       "       [ 4.74651693, 13.81153156],\n",
       "       [ 5.69786961, 15.36244147],\n",
       "       [ 6.41821593, 12.34395045],\n",
       "       [ 5.1641152 , 13.57930838],\n",
       "       [ 6.4026708 , 16.35272295],\n",
       "       [ 5.32341407, 13.0936054 ],\n",
       "       [ 8.00446013, 15.25681447],\n",
       "       [ 5.03991198, 11.54425349],\n",
       "       [ 4.92137786, 14.32651341],\n",
       "       [ 9.48438001, 12.73110814],\n",
       "       [ 4.53906539, 14.91639608],\n",
       "       [ 6.56747961, 12.76760137],\n",
       "       [ 5.01302059, 14.17190339],\n",
       "       [ 8.70146378, 11.0518289 ],\n",
       "       [ 5.50989139, 14.15561682],\n",
       "       [ 7.78838023, 13.79018776],\n",
       "       [ 8.1601606 , 14.02861355],\n",
       "       [ 9.05020922, 11.55587025],\n",
       "       [ 5.57991444, 12.92686247],\n",
       "       [ 6.19586217, 13.10061647],\n",
       "       [ 7.74843763, 14.33282924],\n",
       "       [ 4.34658095, 13.92885184],\n",
       "       [ 7.57678199, 15.08603154],\n",
       "       [ 7.20926163, 14.60672032],\n",
       "       [ 4.71408445, 12.75252488],\n",
       "       [ 3.97325472, 12.29207201],\n",
       "       [ 5.41747767, 15.89157872],\n",
       "       [ 2.97093733, 11.55953935],\n",
       "       [ 6.28063166, 15.93122023],\n",
       "       [ 5.53064255, 11.77642461],\n",
       "       [ 0.86824481, 14.96410539],\n",
       "       [ 5.93287874, 14.6754811 ],\n",
       "       [ 5.2822784 , 14.14321146],\n",
       "       [ 7.89469665, 14.71237105],\n",
       "       [ 6.73208292, 13.53891124],\n",
       "       [ 6.60104435, 15.72188167],\n",
       "       [ 5.22938695, 10.57199747],\n",
       "       [ 6.62931518, 14.26829891],\n",
       "       [ 3.30537382, 16.02723001],\n",
       "       [ 5.70629436,  9.98071689],\n",
       "       [ 3.59665946, 13.36971892],\n",
       "       [ 7.42792384, 13.48294824],\n",
       "       [ 5.87121292, 14.92227149],\n",
       "       [ 7.15115221, 15.29468287],\n",
       "       [ 3.32564814, 16.62098805],\n",
       "       [ 3.34322958, 14.78921775],\n",
       "       [ 5.52355213, 14.37262115],\n",
       "       [ 1.26672037, 12.73230225],\n",
       "       [ 4.49989625, 10.47347162],\n",
       "       [ 5.71775886, 13.89809977],\n",
       "       [ 4.34297339, 13.77101849],\n",
       "       [ 5.33883102,  9.79185443],\n",
       "       [ 3.35044766, 14.26581986],\n",
       "       [ 4.9000163 , 15.63997385],\n",
       "       [ 7.76644403, 13.29588714],\n",
       "       [ 5.49522626, 13.39093364],\n",
       "       [ 6.74705894, 12.06448523],\n",
       "       [ 5.54170931, 12.37255324],\n",
       "       [ 7.29237143, 14.7182513 ],\n",
       "       [ 3.01106225, 11.48147093],\n",
       "       [ 4.98918132, 14.06246403],\n",
       "       [ 6.54480589, 14.85793882],\n",
       "       [ 4.35690061, 15.23470627],\n",
       "       [ 6.79418882, 14.32051784],\n",
       "       [ 5.57619595, 14.93985812],\n",
       "       [ 4.82259429, 12.1127525 ],\n",
       "       [ 6.90879778, 11.12246596],\n",
       "       [ 7.7800464 , 15.90352405],\n",
       "       [ 9.3191319 , 14.87162466],\n",
       "       [ 6.66797364, 13.95658187],\n",
       "       [ 6.24552749, 13.03051429],\n",
       "       [ 7.84071491, 17.01376733],\n",
       "       [ 5.1225415 , 14.59265735],\n",
       "       [ 5.08802523, 11.45458487],\n",
       "       [ 4.27350413, 11.1595813 ],\n",
       "       [ 7.25697067, 12.40021902],\n",
       "       [ 9.99636426,  6.72623118],\n",
       "       [10.10276691,  4.99523783],\n",
       "       [ 9.12026676,  6.83326779],\n",
       "       [12.17328801,  7.20960563],\n",
       "       [ 8.70088735,  4.28206694],\n",
       "       [11.90399004,  3.5999704 ],\n",
       "       [ 9.51779865,  5.20827295],\n",
       "       [11.49544312,  7.20404236],\n",
       "       [ 6.17745812,  7.25347934],\n",
       "       [12.04902386,  8.15546836],\n",
       "       [12.33037168,  3.54038023],\n",
       "       [11.42419175,  5.99081829],\n",
       "       [15.37341243,  3.80537912],\n",
       "       [10.03233187,  6.69519823],\n",
       "       [11.22584869,  6.107436  ],\n",
       "       [ 9.11100225,  4.59755805],\n",
       "       [ 7.23868639,  7.75997798],\n",
       "       [ 9.04342159,  7.54924864],\n",
       "       [10.65242392,  7.91826856],\n",
       "       [10.43819972,  5.40359554],\n",
       "       [10.10361821,  5.42709833],\n",
       "       [11.71334274,  7.71385779],\n",
       "       [10.15573688,  6.81851538],\n",
       "       [ 5.4303881 ,  7.1929862 ],\n",
       "       [11.73418916,  5.98009202],\n",
       "       [10.76050526,  0.59702946],\n",
       "       [ 8.61697782,  4.98156856],\n",
       "       [11.32133783,  5.26278097],\n",
       "       [11.87144029,  5.65327257],\n",
       "       [14.43245284,  6.56946371],\n",
       "       [13.09960443,  6.98739274],\n",
       "       [ 8.24206098,  9.26309937],\n",
       "       [10.93640793,  8.64951602],\n",
       "       [ 8.55892596,  0.82027112],\n",
       "       [ 9.94033788,  4.15118185],\n",
       "       [10.88632192,  8.49758718],\n",
       "       [14.67596842,  5.84813267],\n",
       "       [ 9.49940213,  2.241753  ],\n",
       "       [ 8.95141743,  5.39797024],\n",
       "       [11.86758395,  5.07162396],\n",
       "       [10.9269568 ,  1.86845037],\n",
       "       [10.03109424,  7.0316218 ],\n",
       "       [ 6.93848519,  6.16992268],\n",
       "       [11.20263011,  3.67857978],\n",
       "       [12.41934088,  5.35586837],\n",
       "       [ 9.85238193,  5.26310452],\n",
       "       [ 8.96182794,  6.70854205],\n",
       "       [ 6.71300714,  4.59095818],\n",
       "       [10.70574165,  5.48711051],\n",
       "       [10.23831731,  4.10893762],\n",
       "       [ 7.18086365,  6.90793825],\n",
       "       [10.73547027,  3.95656791],\n",
       "       [ 9.54725511,  7.11749512],\n",
       "       [10.44060659,  5.20783636],\n",
       "       [ 9.15186335,  3.8576055 ],\n",
       "       [10.80226618,  7.05601434],\n",
       "       [12.79898648,  8.66873573],\n",
       "       [10.36323067,  5.37020955],\n",
       "       [ 6.22513193,  5.35995039],\n",
       "       [ 9.00922029,  5.92629444],\n",
       "       [10.19840328,  4.11796774],\n",
       "       [12.7128147 ,  4.15840844],\n",
       "       [ 8.96723095,  3.31902504],\n",
       "       [12.30587428,  8.41010312],\n",
       "       [11.46541364,  3.5659919 ],\n",
       "       [11.62805353,  6.20132797],\n",
       "       [10.4460527 ,  7.99858009],\n",
       "       [ 8.15382286,  7.27136001],\n",
       "       [11.72083985,  6.68232212],\n",
       "       [ 6.70169693,  2.69570033],\n",
       "       [ 9.99496263,  5.56194197],\n",
       "       [12.39370441,  3.82867661],\n",
       "       [ 9.53734796,  4.70824175],\n",
       "       [ 8.85063576,  5.29638626],\n",
       "       [ 9.12006177,  4.94134712],\n",
       "       [ 9.44214036,  5.61382733],\n",
       "       [ 8.37170532,  4.06232775],\n",
       "       [13.16533113,  7.42403775],\n",
       "       [12.45959674,  5.93081674],\n",
       "       [ 6.96877969,  4.63125021],\n",
       "       [10.37713107,  4.43636531],\n",
       "       [10.79029686,  3.488869  ],\n",
       "       [ 8.46565914,  5.02988599],\n",
       "       [10.56922598,  7.30511211],\n",
       "       [ 8.64035741,  8.31631794],\n",
       "       [ 3.52171891,  6.50977586],\n",
       "       [10.15050981,  8.5611906 ],\n",
       "       [ 9.19538032,  4.81701812],\n",
       "       [ 7.87495568,  5.49343709],\n",
       "       [ 9.60176968,  6.43290055],\n",
       "       [12.09468482,  6.32083457],\n",
       "       [ 7.86359812,  6.24234694],\n",
       "       [ 8.59410813,  7.25525787],\n",
       "       [14.09581855,  5.50773769],\n",
       "       [10.20746866,  3.34175901],\n",
       "       [10.93543964,  7.48056043],\n",
       "       [11.85320841,  4.80381106],\n",
       "       [ 7.77816593,  6.63763251],\n",
       "       [10.78698007,  4.97024517],\n",
       "       [13.29852825,  3.86850293],\n",
       "       [10.37722021,  8.37865255],\n",
       "       [10.28043079,  7.00262282],\n",
       "       [10.78228794,  7.33762616],\n",
       "       [10.5496367 ,  5.83884674],\n",
       "       [14.22624859,  5.6057607 ],\n",
       "       [ 9.21289846,  3.39498031],\n",
       "       [ 7.66738907,  7.67159415],\n",
       "       [ 7.59328409,  7.65775182],\n",
       "       [13.11714279,  7.5538465 ],\n",
       "       [13.08872913,  7.03975905],\n",
       "       [ 9.99759955,  4.98766767],\n",
       "       [10.48037416,  7.87802596],\n",
       "       [ 9.76925774,  4.20123367],\n",
       "       [10.45179331,  4.43283335],\n",
       "       [12.37375005,  8.38240214],\n",
       "       [14.4365493 ,  2.25969089],\n",
       "       [12.04829269,  6.20292081],\n",
       "       [13.75158213,  5.83254828],\n",
       "       [10.64316726,  4.53876661],\n",
       "       [12.32026227,  6.60242102],\n",
       "       [11.21616121,  6.96975518],\n",
       "       [ 7.94255849,  8.6713085 ],\n",
       "       [ 7.33026013,  7.14045268],\n",
       "       [ 8.65891764,  5.20601877],\n",
       "       [ 9.23279145,  4.69206277],\n",
       "       [ 8.80436301,  9.34762869],\n",
       "       [ 9.47394313,  6.96494517],\n",
       "       [10.04601148,  9.99534777],\n",
       "       [11.12052236,  8.66868791],\n",
       "       [13.46490572,  7.63598697],\n",
       "       [11.11890525,  7.22522884],\n",
       "       [ 9.12710165,  3.80131231],\n",
       "       [ 9.53233302,  6.05734858],\n",
       "       [ 6.44474269,  5.27196184],\n",
       "       [ 8.8871732 ,  6.14313147],\n",
       "       [11.25905639,  6.14604482],\n",
       "       [ 8.3158874 ,  7.15705097],\n",
       "       [ 7.78635813,  5.01920636],\n",
       "       [ 8.03296507,  3.88809934],\n",
       "       [ 8.54190318,  5.24176046],\n",
       "       [11.61558412,  6.9356579 ],\n",
       "       [ 7.66747237,  6.83630421],\n",
       "       [10.42515573,  8.74211279],\n",
       "       [ 7.66862522,  4.51884492],\n",
       "       [14.70179349,  7.19195516],\n",
       "       [ 9.84690467,  6.68673772],\n",
       "       [10.61977244,  7.55008839],\n",
       "       [ 8.23748773,  3.82942636],\n",
       "       [ 8.10751433,  6.93351312],\n",
       "       [ 7.58774645,  6.6319424 ],\n",
       "       [11.72422781,  6.99365276],\n",
       "       [ 7.98176842,  9.23435214],\n",
       "       [11.73222894,  6.60256308],\n",
       "       [10.77982988,  5.81488829],\n",
       "       [ 9.87884254,  8.05695363],\n",
       "       [ 7.67645575,  6.15661692],\n",
       "       [ 9.31717312, 10.15935545],\n",
       "       [ 8.69600857,  7.25197517],\n",
       "       [ 9.57594897,  7.65914863],\n",
       "       [ 8.45161689,  9.2964976 ],\n",
       "       [ 7.78581547,  4.91529306],\n",
       "       [10.39943211,  8.28827114],\n",
       "       [ 8.71940074,  8.57527667],\n",
       "       [12.31268632,  7.08643337],\n",
       "       [ 7.26607131,  9.26183465],\n",
       "       [ 6.98763901,  3.66114112],\n",
       "       [ 9.1111492 , 10.1664493 ],\n",
       "       [ 8.19667015,  4.69777163],\n",
       "       [11.63320108,  8.28648748],\n",
       "       [ 8.47890453,  6.20220951],\n",
       "       [ 7.98399202,  0.67577925],\n",
       "       [ 9.32582853,  7.39530375],\n",
       "       [15.26309395,  8.2636963 ],\n",
       "       [ 7.54196707,  8.74263664],\n",
       "       [12.54759342,  3.95574318],\n",
       "       [ 8.84165265,  5.460753  ],\n",
       "       [ 8.86707498,  6.45501843],\n",
       "       [10.40262578,  6.35737278],\n",
       "       [10.35669775,  4.89909419],\n",
       "       [10.0335163 ,  1.20257352],\n",
       "       [ 8.4984135 ,  8.15056072],\n",
       "       [13.68864924, 10.14860573],\n",
       "       [ 9.68685926,  3.81797157],\n",
       "       [ 6.40635355,  6.18897754],\n",
       "       [12.98861466,  4.62072212],\n",
       "       [11.82872608,  4.98841303],\n",
       "       [11.44511431,  4.03199306],\n",
       "       [14.11169735,  4.53539093],\n",
       "       [10.68214149,  9.28962362],\n",
       "       [11.56652381,  5.10212191],\n",
       "       [ 9.01891541,  5.74908099],\n",
       "       [11.36846324,  5.66366445],\n",
       "       [ 6.79852271,  8.32562423],\n",
       "       [ 9.49090869,  5.99147796],\n",
       "       [12.97857753,  5.81217658],\n",
       "       [ 9.56409521,  2.87460075],\n",
       "       [ 8.68998498,  2.79001449],\n",
       "       [ 9.96881356,  5.18277153],\n",
       "       [ 9.38580907,  8.116682  ],\n",
       "       [ 9.53056941,  4.98360313],\n",
       "       [ 9.81491596,  7.09832132],\n",
       "       [ 8.02704499,  4.07535982],\n",
       "       [10.60676509,  7.49182938],\n",
       "       [ 8.62719591,  8.5306088 ],\n",
       "       [ 8.09210691,  9.71934287],\n",
       "       [ 9.32030928,  6.64051053],\n",
       "       [10.16440881,  6.20618378],\n",
       "       [10.43333335,  7.24488152],\n",
       "       [11.29005807,  7.86888465],\n",
       "       [ 7.22381028,  5.52699548],\n",
       "       [ 8.45367488,  6.8893767 ],\n",
       "       [13.31178058,  6.90054257],\n",
       "       [11.59239391,  4.13423519],\n",
       "       [ 9.71012191,  5.65221685],\n",
       "       [ 6.57680473,  7.65221005],\n",
       "       [ 8.02173648,  4.80095958],\n",
       "       [10.89182054,  6.73693157],\n",
       "       [ 9.80613402,  6.45053706],\n",
       "       [ 9.60096075,  4.12799442],\n",
       "       [ 7.15193936,  2.94292531],\n",
       "       [ 8.06635318,  6.52052009],\n",
       "       [ 9.30399166,  6.92967305],\n",
       "       [10.05728   ,  7.30736803],\n",
       "       [12.17325484,  3.57523232],\n",
       "       [10.41758046,  6.0526232 ],\n",
       "       [12.62868973,  7.66233953],\n",
       "       [ 9.95726609,  8.74756149],\n",
       "       [ 9.64195245,  4.50488074],\n",
       "       [10.81752955,  8.91820846],\n",
       "       [10.13816959, 10.04876787],\n",
       "       [12.66375424,  5.98413163],\n",
       "       [ 9.51877448,  3.22244154],\n",
       "       [ 6.79731131,  4.94920387],\n",
       "       [12.42239428,  4.64522325],\n",
       "       [10.60191706,  6.42596051],\n",
       "       [11.83929046,  4.78909158],\n",
       "       [10.3366005 ,  5.42591282],\n",
       "       [11.47982891,  5.21049105],\n",
       "       [11.38570796,  7.82231529],\n",
       "       [13.32858383,  5.83119578],\n",
       "       [10.15070328,  3.66602578],\n",
       "       [ 7.36560651,  7.38781763],\n",
       "       [10.84860923,  8.54237909],\n",
       "       [11.69951175,  5.09669792],\n",
       "       [11.47554748,  3.14811512],\n",
       "       [10.31147339,  3.23029448],\n",
       "       [12.52241807,  9.01885361],\n",
       "       [ 7.35682734,  2.09827722],\n",
       "       [10.68672456,  3.36596449],\n",
       "       [11.18597713,  4.79827215]])"
      ]
     },
     "execution_count": 86,
     "metadata": {},
     "output_type": "execute_result"
    }
   ],
   "source": [
    "x=np.concatenate((x,np.random.multivariate_normal(mean2,cov,int(N/6))))\n",
    "x"
   ]
  },
  {
   "cell_type": "code",
   "execution_count": 87,
   "metadata": {},
   "outputs": [],
   "source": [
    "x=np.concatenate((x,np.random.multivariate_normal(mean3,cov,int(N/6))))"
   ]
  },
  {
   "cell_type": "code",
   "execution_count": 88,
   "metadata": {},
   "outputs": [],
   "source": [
    "x=np.concatenate((x,20*np.random.rand(int(N/2),2)))"
   ]
  },
  {
   "cell_type": "code",
   "execution_count": 89,
   "metadata": {},
   "outputs": [
    {
     "data": {
      "text/plain": [
       "(1500, 2)"
      ]
     },
     "execution_count": 89,
     "metadata": {},
     "output_type": "execute_result"
    }
   ],
   "source": [
    "x.shape"
   ]
  },
  {
   "cell_type": "code",
   "execution_count": 90,
   "metadata": {},
   "outputs": [],
   "source": [
    "y=np.concatenate((np.ones(int(N/2)),np.zeros(int(N/2))))"
   ]
  },
  {
   "cell_type": "code",
   "execution_count": 91,
   "metadata": {},
   "outputs": [
    {
     "data": {
      "text/plain": [
       "array([1., 1., 1., ..., 0., 0., 0.])"
      ]
     },
     "execution_count": 91,
     "metadata": {},
     "output_type": "execute_result"
    }
   ],
   "source": [
    "y"
   ]
  },
  {
   "cell_type": "code",
   "execution_count": 92,
   "metadata": {},
   "outputs": [
    {
     "data": {
      "text/plain": [
       "[<matplotlib.lines.Line2D at 0x14368b8b190>,\n",
       " <matplotlib.lines.Line2D at 0x14368b8b430>]"
      ]
     },
     "execution_count": 92,
     "metadata": {},
     "output_type": "execute_result"
    },
    {
     "data": {
      "image/png": "[encoded data removed]",
      "text/plain": [
       "<Figure size 432x288 with 1 Axes>"
      ]
     },
     "metadata": {
      "needs_background": "light"
     },
     "output_type": "display_data"
    }
   ],
   "source": [
    "plt.plot(x[:int(N/2),0],x[:int(N/2),1],'r+',x[int(N/2):,0],x[int(N/2):,1],'k.',ms=4)"
   ]
  },
  {
   "cell_type": "code",
   "execution_count": 93,
   "metadata": {},
   "outputs": [],
   "source": [
    "#  train using 80%  & 20% for testing\n",
    "# vary the depth of the tree 2 to 50\n",
    "# check the accuracies of the model"
   ]
  },
  {
   "cell_type": "code",
   "execution_count": 94,
   "metadata": {},
   "outputs": [],
   "source": [
    "# Train & test the model"
   ]
  },
  {
   "cell_type": "code",
   "execution_count": 95,
   "metadata": {},
   "outputs": [],
   "source": [
    "from sklearn.model_selection import train_test_split"
   ]
  },
  {
   "cell_type": "code",
   "execution_count": 96,
   "metadata": {},
   "outputs": [],
   "source": [
    "x_train,x_test,y_train,y_test=train_test_split(x,y,test_size=0.2,random_state=1)"
   ]
  },
  {
   "cell_type": "code",
   "execution_count": 97,
   "metadata": {},
   "outputs": [
    {
     "data": {
      "text/plain": [
       "(300, 2)"
      ]
     },
     "execution_count": 97,
     "metadata": {},
     "output_type": "execute_result"
    }
   ],
   "source": [
    "x_test.shape"
   ]
  },
  {
   "cell_type": "code",
   "execution_count": 98,
   "metadata": {},
   "outputs": [
    {
     "data": {
      "text/plain": [
       "(300,)"
      ]
     },
     "execution_count": 98,
     "metadata": {},
     "output_type": "execute_result"
    }
   ],
   "source": [
    "y_test.shape"
   ]
  },
  {
   "cell_type": "code",
   "execution_count": 99,
   "metadata": {},
   "outputs": [
    {
     "data": {
      "text/plain": [
       "array([[ 9.05881395, 14.62151417],\n",
       "       [14.8306329 , 11.72082915],\n",
       "       [19.67459616, 13.67475883],\n",
       "       ...,\n",
       "       [ 6.45052624, 17.81211706],\n",
       "       [ 6.54480589, 14.85793882],\n",
       "       [ 3.01486535, 13.16257116]])"
      ]
     },
     "execution_count": 99,
     "metadata": {},
     "output_type": "execute_result"
    }
   ],
   "source": [
    "x_train"
   ]
  },
  {
   "cell_type": "code",
   "execution_count": 101,
   "metadata": {},
   "outputs": [
    {
     "data": {
      "text/plain": [
       "array([1., 1., 0., 1., 0., 0., 0., 0., 0., 1., 1., 1., 0., 1., 1., 0., 1.,\n",
       "       0., 0., 1., 0., 0., 0., 0., 1., 0., 0., 0., 0., 0., 0., 1., 0., 0.,\n",
       "       1., 0., 0., 1., 1., 0., 0., 1., 1., 1., 0., 1., 0., 0., 0., 1., 0.,\n",
       "       0., 0., 1., 0., 0., 1., 0., 1., 1., 0., 0., 1., 1., 0., 1., 1., 1.,\n",
       "       0., 1., 0., 1., 0., 1., 0., 0., 0., 1., 1., 0., 1., 0., 1., 0., 1.,\n",
       "       0., 0., 1., 1., 1., 0., 1., 1., 0., 1., 0., 1., 0., 1., 0., 0., 0.,\n",
       "       0., 0., 1., 1., 1., 1., 1., 0., 0., 0., 0., 1., 1., 1., 1., 1., 0.,\n",
       "       1., 1., 0., 0., 0., 1., 0., 1., 0., 1., 0., 1., 1., 1., 0., 1., 0.,\n",
       "       1., 1., 1., 0., 0., 0., 0., 1., 1., 1., 0., 1., 0., 1., 1., 1., 1.,\n",
       "       1., 1., 0., 1., 1., 0., 0., 0., 1., 1., 1., 0., 1., 1., 0., 0., 0.,\n",
       "       1., 0., 0., 0., 0., 1., 0., 1., 1., 1., 1., 0., 1., 1., 1., 1., 1.,\n",
       "       0., 0., 1., 0., 1., 1., 0., 0., 1., 0., 1., 1., 0., 0., 1., 0., 0.,\n",
       "       1., 1., 0., 1., 1., 0., 1., 0., 0., 0., 1., 1., 0., 1., 1., 1., 0.,\n",
       "       0., 1., 0., 0., 1., 1., 1., 1., 0., 0., 1., 1., 1., 1., 0., 1., 1.,\n",
       "       1., 0., 1., 1., 1., 0., 1., 1., 1., 0., 1., 1., 1., 1., 1., 1., 0.,\n",
       "       0., 0., 0., 1., 0., 0., 1., 1., 1., 1., 1., 0., 0., 1., 0., 0., 1.,\n",
       "       0., 1., 0., 0., 1., 0., 0., 0., 1., 0., 0., 1., 1., 1., 0., 0., 0.,\n",
       "       1., 0., 0., 0., 1., 1., 0., 0., 0., 1., 1.])"
      ]
     },
     "execution_count": 101,
     "metadata": {},
     "output_type": "execute_result"
    }
   ],
   "source": [
    "y_test"
   ]
  },
  {
   "cell_type": "code",
   "execution_count": 102,
   "metadata": {},
   "outputs": [],
   "source": [
    "# import libraries"
   ]
  },
  {
   "cell_type": "code",
   "execution_count": 103,
   "metadata": {},
   "outputs": [],
   "source": [
    "from sklearn import tree"
   ]
  },
  {
   "cell_type": "code",
   "execution_count": 104,
   "metadata": {},
   "outputs": [],
   "source": [
    "from sklearn.metrics import accuracy_score"
   ]
  },
  {
   "cell_type": "code",
   "execution_count": 105,
   "metadata": {},
   "outputs": [],
   "source": [
    "# model fitting and evaluation"
   ]
  },
  {
   "cell_type": "code",
   "execution_count": 106,
   "metadata": {},
   "outputs": [],
   "source": [
    "maxDepths=[2,3,4,5,6,7,8,9,10,15,20,25,30,35,40,45,50]"
   ]
  },
  {
   "cell_type": "code",
   "execution_count": 107,
   "metadata": {},
   "outputs": [],
   "source": [
    "trainAcc=np.zeros(len(maxDepths))"
   ]
  },
  {
   "cell_type": "code",
   "execution_count": 108,
   "metadata": {},
   "outputs": [
    {
     "data": {
      "text/plain": [
       "array([0., 0., 0., 0., 0., 0., 0., 0., 0., 0., 0., 0., 0., 0., 0., 0., 0.])"
      ]
     },
     "execution_count": 108,
     "metadata": {},
     "output_type": "execute_result"
    }
   ],
   "source": [
    "trainAcc"
   ]
  },
  {
   "cell_type": "code",
   "execution_count": 109,
   "metadata": {},
   "outputs": [
    {
     "data": {
      "text/plain": [
       "array([0., 0., 0., 0., 0., 0., 0., 0., 0., 0., 0., 0., 0., 0., 0., 0., 0.])"
      ]
     },
     "execution_count": 109,
     "metadata": {},
     "output_type": "execute_result"
    }
   ],
   "source": [
    "testAcc=np.zeros(len(maxDepths))\n",
    "testAcc"
   ]
  },
  {
   "cell_type": "code",
   "execution_count": 110,
   "metadata": {},
   "outputs": [],
   "source": [
    "index=0"
   ]
  },
  {
   "cell_type": "code",
   "execution_count": 114,
   "metadata": {},
   "outputs": [],
   "source": [
    "for depth in maxDepths:\n",
    "    clf=tree.DecisionTreeClassifier(max_depth=depth)\n",
    "    clf=clf.fit(x_train,y_train)\n",
    "    y_predTrain=clf.predict(x_train)\n",
    "    y_predTest=clf.predict(x_test)\n",
    "    trainAcc[index]=accuracy_score(y_train,y_predTrain)\n",
    "    testAcc[index]=accuracy_score(y_test,y_predTest)\n",
    "    index+=1"
   ]
  },
  {
   "cell_type": "code",
   "execution_count": 115,
   "metadata": {},
   "outputs": [
    {
     "data": {
      "text/plain": [
       "array([0.65416667, 0.69583333, 0.73833333, 0.7475    , 0.77083333,\n",
       "       0.79583333, 0.80416667, 0.82416667, 0.845     , 0.95166667,\n",
       "       0.98916667, 0.99916667, 1.        , 1.        , 1.        ,\n",
       "       1.        , 1.        ])"
      ]
     },
     "execution_count": 115,
     "metadata": {},
     "output_type": "execute_result"
    }
   ],
   "source": [
    "trainAcc"
   ]
  },
  {
   "cell_type": "code",
   "execution_count": 116,
   "metadata": {},
   "outputs": [
    {
     "data": {
      "text/plain": [
       "array([0.61333333, 0.66333333, 0.68666667, 0.71      , 0.71333333,\n",
       "       0.68666667, 0.69666667, 0.69666667, 0.68666667, 0.66666667,\n",
       "       0.65333333, 0.66666667, 0.64333333, 0.65666667, 0.65666667,\n",
       "       0.64333333, 0.65333333])"
      ]
     },
     "execution_count": 116,
     "metadata": {},
     "output_type": "execute_result"
    }
   ],
   "source": [
    "testAcc"
   ]
  },
  {
   "cell_type": "code",
   "execution_count": 117,
   "metadata": {},
   "outputs": [
    {
     "data": {
      "text/plain": [
       "Text(0, 0.5, 'Accuracy')"
      ]
     },
     "execution_count": 117,
     "metadata": {},
     "output_type": "execute_result"
    },
    {
     "data": {
      "image/png": "[encoded data removed]",
      "text/plain": [
       "<Figure size 432x288 with 1 Axes>"
      ]
     },
     "metadata": {
      "needs_background": "light"
     },
     "output_type": "display_data"
    }
   ],
   "source": [
    "#plot the results\n",
    "plt.plot(maxDepths,trainAcc,'ro-',maxDepths,testAcc,'bv--')\n",
    "plt.legend(['Training Accuracy','Test Accuracy'])\n",
    "plt.xlabel('Max Depth')\n",
    "plt.ylabel('Accuracy')"
   ]
  },
  {
   "cell_type": "code",
   "execution_count": 118,
   "metadata": {},
   "outputs": [],
   "source": [
    "# Q if you are  to put this model into production, which depth would you use?\n",
    "\n",
    "# A when the test reaches max accuracy i.e at depth 6"
   ]
  },
  {
   "cell_type": "code",
   "execution_count": 119,
   "metadata": {},
   "outputs": [
    {
     "data": {
      "text/plain": [
       "1.0"
      ]
     },
     "execution_count": 119,
     "metadata": {},
     "output_type": "execute_result"
    }
   ],
   "source": [
    "max(trainAcc)"
   ]
  },
  {
   "cell_type": "code",
   "execution_count": 120,
   "metadata": {},
   "outputs": [
    {
     "data": {
      "text/plain": [
       "0.7133333333333334"
      ]
     },
     "execution_count": 120,
     "metadata": {},
     "output_type": "execute_result"
    }
   ],
   "source": [
    "max(testAcc)"
   ]
  },
  {
   "cell_type": "code",
   "execution_count": null,
   "metadata": {},
   "outputs": [],
   "source": [
    "## Q\n",
    "# search for a dataset that has categorical data from kaggle\n",
    "# create a decision tree from the dataset\n",
    "# deploy a model and show the ideal depth"
   ]
  }
 ],
 "metadata": {
  "kernelspec": {
   "display_name": "Python 3",
   "language": "python",
   "name": "python3"
  },
  "language_info": {
   "codemirror_mode": {
    "name": "ipython",
    "version": 3
   },
   "file_extension": ".py",
   "mimetype": "text/x-python",
   "name": "python",
   "nbconvert_exporter": "python",
   "pygments_lexer": "ipython3",
   "version": "3.8.5"
  }
 },
 "nbformat": 4,
 "nbformat_minor": 4
}
